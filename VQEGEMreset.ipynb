{
  "nbformat": 4,
  "nbformat_minor": 0,
  "metadata": {
    "colab": {
      "provenance": [],
      "authorship_tag": "ABX9TyNT3Xpc+jVSEOA5qAx4O1nz",
      "include_colab_link": true
    },
    "kernelspec": {
      "name": "python3",
      "display_name": "Python 3"
    },
    "language_info": {
      "name": "python"
    }
  },
  "cells": [
    {
      "cell_type": "markdown",
      "metadata": {
        "id": "view-in-github",
        "colab_type": "text"
      },
      "source": [
        "<a href=\"https://colab.research.google.com/github/ScoomenstheMumens/QiskitThesis-LGTQuantumSimulations/blob/main/VQEGEMreset.ipynb\" target=\"_parent\"><img src=\"https://colab.research.google.com/assets/colab-badge.svg\" alt=\"Open In Colab\"/></a>"
      ]
    },
    {
      "cell_type": "code",
      "execution_count": 52,
      "metadata": {
        "colab": {
          "base_uri": "https://localhost:8080/"
        },
        "id": "LnWnxkMrK0cs",
        "outputId": "b4a4f344-b992-48c8-d33b-b7c8d48f2351"
      },
      "outputs": [
        {
          "output_type": "stream",
          "name": "stdout",
          "text": [
            "Looking in indexes: https://pypi.org/simple, https://us-python.pkg.dev/colab-wheels/public/simple/\n",
            "Requirement already satisfied: retworkx in /usr/local/lib/python3.8/dist-packages (0.12.1)\n",
            "Requirement already satisfied: rustworkx==0.12.1 in /usr/local/lib/python3.8/dist-packages (from retworkx) (0.12.1)\n",
            "Requirement already satisfied: numpy>=1.16.0 in /usr/local/lib/python3.8/dist-packages (from retworkx) (1.21.6)\n",
            "Looking in indexes: https://pypi.org/simple, https://us-python.pkg.dev/colab-wheels/public/simple/\n",
            "Requirement already satisfied: Qiskit in /usr/local/lib/python3.8/dist-packages (0.39.3)\n",
            "Requirement already satisfied: qiskit-ibmq-provider==0.19.2 in /usr/local/lib/python3.8/dist-packages (from Qiskit) (0.19.2)\n",
            "Requirement already satisfied: qiskit-aer==0.11.1 in /usr/local/lib/python3.8/dist-packages (from Qiskit) (0.11.1)\n",
            "Requirement already satisfied: qiskit-terra==0.22.3 in /usr/local/lib/python3.8/dist-packages (from Qiskit) (0.22.3)\n",
            "Requirement already satisfied: scipy>=1.0 in /usr/local/lib/python3.8/dist-packages (from qiskit-aer==0.11.1->Qiskit) (1.7.3)\n",
            "Requirement already satisfied: numpy>=1.16.3 in /usr/local/lib/python3.8/dist-packages (from qiskit-aer==0.11.1->Qiskit) (1.21.6)\n",
            "Requirement already satisfied: urllib3>=1.21.1 in /usr/local/lib/python3.8/dist-packages (from qiskit-ibmq-provider==0.19.2->Qiskit) (1.26.13)\n",
            "Requirement already satisfied: python-dateutil>=2.8.0 in /usr/local/lib/python3.8/dist-packages (from qiskit-ibmq-provider==0.19.2->Qiskit) (2.8.2)\n",
            "Requirement already satisfied: requests-ntlm>=1.1.0 in /usr/local/lib/python3.8/dist-packages (from qiskit-ibmq-provider==0.19.2->Qiskit) (1.1.0)\n",
            "Requirement already satisfied: requests>=2.19 in /usr/local/lib/python3.8/dist-packages (from qiskit-ibmq-provider==0.19.2->Qiskit) (2.28.1)\n",
            "Requirement already satisfied: websockets>=10.0 in /usr/local/lib/python3.8/dist-packages (from qiskit-ibmq-provider==0.19.2->Qiskit) (10.4)\n",
            "Requirement already satisfied: websocket-client>=1.0.1 in /usr/local/lib/python3.8/dist-packages (from qiskit-ibmq-provider==0.19.2->Qiskit) (1.3.3)\n",
            "Requirement already satisfied: tweedledum<2.0,>=1.1 in /usr/local/lib/python3.8/dist-packages (from qiskit-terra==0.22.3->Qiskit) (1.1.1)\n",
            "Requirement already satisfied: stevedore>=3.0.0 in /usr/local/lib/python3.8/dist-packages (from qiskit-terra==0.22.3->Qiskit) (4.1.1)\n",
            "Requirement already satisfied: symengine>=0.9 in /usr/local/lib/python3.8/dist-packages (from qiskit-terra==0.22.3->Qiskit) (0.9.2)\n",
            "Requirement already satisfied: sympy>=1.3 in /usr/local/lib/python3.8/dist-packages (from qiskit-terra==0.22.3->Qiskit) (1.7.1)\n",
            "Requirement already satisfied: psutil>=5 in /usr/local/lib/python3.8/dist-packages (from qiskit-terra==0.22.3->Qiskit) (5.4.8)\n",
            "Requirement already satisfied: dill>=0.3 in /usr/local/lib/python3.8/dist-packages (from qiskit-terra==0.22.3->Qiskit) (0.3.6)\n",
            "Requirement already satisfied: ply>=3.10 in /usr/local/lib/python3.8/dist-packages (from qiskit-terra==0.22.3->Qiskit) (3.11)\n",
            "Requirement already satisfied: retworkx>=0.11.0 in /usr/local/lib/python3.8/dist-packages (from qiskit-terra==0.22.3->Qiskit) (0.12.1)\n",
            "Requirement already satisfied: six>=1.5 in /usr/local/lib/python3.8/dist-packages (from python-dateutil>=2.8.0->qiskit-ibmq-provider==0.19.2->Qiskit) (1.15.0)\n",
            "Requirement already satisfied: charset-normalizer<3,>=2 in /usr/local/lib/python3.8/dist-packages (from requests>=2.19->qiskit-ibmq-provider==0.19.2->Qiskit) (2.1.1)\n",
            "Requirement already satisfied: certifi>=2017.4.17 in /usr/local/lib/python3.8/dist-packages (from requests>=2.19->qiskit-ibmq-provider==0.19.2->Qiskit) (2022.9.24)\n",
            "Requirement already satisfied: idna<4,>=2.5 in /usr/local/lib/python3.8/dist-packages (from requests>=2.19->qiskit-ibmq-provider==0.19.2->Qiskit) (2.10)\n",
            "Requirement already satisfied: cryptography>=1.3 in /usr/local/lib/python3.8/dist-packages (from requests-ntlm>=1.1.0->qiskit-ibmq-provider==0.19.2->Qiskit) (38.0.4)\n",
            "Requirement already satisfied: ntlm-auth>=1.0.2 in /usr/local/lib/python3.8/dist-packages (from requests-ntlm>=1.1.0->qiskit-ibmq-provider==0.19.2->Qiskit) (1.5.0)\n",
            "Requirement already satisfied: cffi>=1.12 in /usr/local/lib/python3.8/dist-packages (from cryptography>=1.3->requests-ntlm>=1.1.0->qiskit-ibmq-provider==0.19.2->Qiskit) (1.15.1)\n",
            "Requirement already satisfied: pycparser in /usr/local/lib/python3.8/dist-packages (from cffi>=1.12->cryptography>=1.3->requests-ntlm>=1.1.0->qiskit-ibmq-provider==0.19.2->Qiskit) (2.21)\n",
            "Requirement already satisfied: rustworkx==0.12.1 in /usr/local/lib/python3.8/dist-packages (from retworkx>=0.11.0->qiskit-terra==0.22.3->Qiskit) (0.12.1)\n",
            "Requirement already satisfied: pbr!=2.1.0,>=2.0.0 in /usr/local/lib/python3.8/dist-packages (from stevedore>=3.0.0->qiskit-terra==0.22.3->Qiskit) (5.11.0)\n",
            "Requirement already satisfied: mpmath>=0.19 in /usr/local/lib/python3.8/dist-packages (from sympy>=1.3->qiskit-terra==0.22.3->Qiskit) (1.2.1)\n",
            "Looking in indexes: https://pypi.org/simple, https://us-python.pkg.dev/colab-wheels/public/simple/\n",
            "Requirement already satisfied: qiskit_nature in /usr/local/lib/python3.8/dist-packages (0.5.2)\n",
            "Requirement already satisfied: h5py in /usr/local/lib/python3.8/dist-packages (from qiskit_nature) (3.1.0)\n",
            "Requirement already satisfied: numpy>=1.17 in /usr/local/lib/python3.8/dist-packages (from qiskit_nature) (1.21.6)\n",
            "Requirement already satisfied: typing-extensions in /usr/local/lib/python3.8/dist-packages (from qiskit_nature) (4.4.0)\n",
            "Requirement already satisfied: scikit-learn>=0.20.0 in /usr/local/lib/python3.8/dist-packages (from qiskit_nature) (1.0.2)\n",
            "Requirement already satisfied: psutil>=5 in /usr/local/lib/python3.8/dist-packages (from qiskit_nature) (5.4.8)\n",
            "Requirement already satisfied: setuptools>=40.1.0 in /usr/local/lib/python3.8/dist-packages (from qiskit_nature) (57.4.0)\n",
            "Requirement already satisfied: rustworkx in /usr/local/lib/python3.8/dist-packages (from qiskit_nature) (0.12.1)\n",
            "Requirement already satisfied: scipy>=1.4 in /usr/local/lib/python3.8/dist-packages (from qiskit_nature) (1.7.3)\n",
            "Requirement already satisfied: qiskit-terra>=0.22.* in /usr/local/lib/python3.8/dist-packages (from qiskit_nature) (0.22.3)\n",
            "Requirement already satisfied: dill>=0.3 in /usr/local/lib/python3.8/dist-packages (from qiskit-terra>=0.22.*->qiskit_nature) (0.3.6)\n",
            "Requirement already satisfied: ply>=3.10 in /usr/local/lib/python3.8/dist-packages (from qiskit-terra>=0.22.*->qiskit_nature) (3.11)\n",
            "Requirement already satisfied: symengine>=0.9 in /usr/local/lib/python3.8/dist-packages (from qiskit-terra>=0.22.*->qiskit_nature) (0.9.2)\n",
            "Requirement already satisfied: python-dateutil>=2.8.0 in /usr/local/lib/python3.8/dist-packages (from qiskit-terra>=0.22.*->qiskit_nature) (2.8.2)\n",
            "Requirement already satisfied: tweedledum<2.0,>=1.1 in /usr/local/lib/python3.8/dist-packages (from qiskit-terra>=0.22.*->qiskit_nature) (1.1.1)\n",
            "Requirement already satisfied: retworkx>=0.11.0 in /usr/local/lib/python3.8/dist-packages (from qiskit-terra>=0.22.*->qiskit_nature) (0.12.1)\n",
            "Requirement already satisfied: sympy>=1.3 in /usr/local/lib/python3.8/dist-packages (from qiskit-terra>=0.22.*->qiskit_nature) (1.7.1)\n",
            "Requirement already satisfied: stevedore>=3.0.0 in /usr/local/lib/python3.8/dist-packages (from qiskit-terra>=0.22.*->qiskit_nature) (4.1.1)\n",
            "Requirement already satisfied: six>=1.5 in /usr/local/lib/python3.8/dist-packages (from python-dateutil>=2.8.0->qiskit-terra>=0.22.*->qiskit_nature) (1.15.0)\n",
            "Requirement already satisfied: threadpoolctl>=2.0.0 in /usr/local/lib/python3.8/dist-packages (from scikit-learn>=0.20.0->qiskit_nature) (3.1.0)\n",
            "Requirement already satisfied: joblib>=0.11 in /usr/local/lib/python3.8/dist-packages (from scikit-learn>=0.20.0->qiskit_nature) (1.2.0)\n",
            "Requirement already satisfied: pbr!=2.1.0,>=2.0.0 in /usr/local/lib/python3.8/dist-packages (from stevedore>=3.0.0->qiskit-terra>=0.22.*->qiskit_nature) (5.11.0)\n",
            "Requirement already satisfied: mpmath>=0.19 in /usr/local/lib/python3.8/dist-packages (from sympy>=1.3->qiskit-terra>=0.22.*->qiskit_nature) (1.2.1)\n",
            "Looking in indexes: https://pypi.org/simple, https://us-python.pkg.dev/colab-wheels/public/simple/\n",
            "Requirement already satisfied: qiskit_ignis in /usr/local/lib/python3.8/dist-packages (0.7.1)\n",
            "Requirement already satisfied: qiskit-terra>=0.15.1 in /usr/local/lib/python3.8/dist-packages (from qiskit_ignis) (0.22.3)\n",
            "Requirement already satisfied: scipy!=0.19.1,>=0.19 in /usr/local/lib/python3.8/dist-packages (from qiskit_ignis) (1.7.3)\n",
            "Requirement already satisfied: retworkx>=0.8.0 in /usr/local/lib/python3.8/dist-packages (from qiskit_ignis) (0.12.1)\n",
            "Requirement already satisfied: setuptools>=40.1.0 in /usr/local/lib/python3.8/dist-packages (from qiskit_ignis) (57.4.0)\n",
            "Requirement already satisfied: numpy>=1.13 in /usr/local/lib/python3.8/dist-packages (from qiskit_ignis) (1.21.6)\n",
            "Requirement already satisfied: stevedore>=3.0.0 in /usr/local/lib/python3.8/dist-packages (from qiskit-terra>=0.15.1->qiskit_ignis) (4.1.1)\n",
            "Requirement already satisfied: symengine>=0.9 in /usr/local/lib/python3.8/dist-packages (from qiskit-terra>=0.15.1->qiskit_ignis) (0.9.2)\n",
            "Requirement already satisfied: python-dateutil>=2.8.0 in /usr/local/lib/python3.8/dist-packages (from qiskit-terra>=0.15.1->qiskit_ignis) (2.8.2)\n",
            "Requirement already satisfied: sympy>=1.3 in /usr/local/lib/python3.8/dist-packages (from qiskit-terra>=0.15.1->qiskit_ignis) (1.7.1)\n",
            "Requirement already satisfied: psutil>=5 in /usr/local/lib/python3.8/dist-packages (from qiskit-terra>=0.15.1->qiskit_ignis) (5.4.8)\n",
            "Requirement already satisfied: tweedledum<2.0,>=1.1 in /usr/local/lib/python3.8/dist-packages (from qiskit-terra>=0.15.1->qiskit_ignis) (1.1.1)\n",
            "Requirement already satisfied: ply>=3.10 in /usr/local/lib/python3.8/dist-packages (from qiskit-terra>=0.15.1->qiskit_ignis) (3.11)\n",
            "Requirement already satisfied: dill>=0.3 in /usr/local/lib/python3.8/dist-packages (from qiskit-terra>=0.15.1->qiskit_ignis) (0.3.6)\n",
            "Requirement already satisfied: six>=1.5 in /usr/local/lib/python3.8/dist-packages (from python-dateutil>=2.8.0->qiskit-terra>=0.15.1->qiskit_ignis) (1.15.0)\n",
            "Requirement already satisfied: rustworkx==0.12.1 in /usr/local/lib/python3.8/dist-packages (from retworkx>=0.8.0->qiskit_ignis) (0.12.1)\n",
            "Requirement already satisfied: pbr!=2.1.0,>=2.0.0 in /usr/local/lib/python3.8/dist-packages (from stevedore>=3.0.0->qiskit-terra>=0.15.1->qiskit_ignis) (5.11.0)\n",
            "Requirement already satisfied: mpmath>=0.19 in /usr/local/lib/python3.8/dist-packages (from sympy>=1.3->qiskit-terra>=0.15.1->qiskit_ignis) (1.2.1)\n",
            "Looking in indexes: https://pypi.org/simple, https://us-python.pkg.dev/colab-wheels/public/simple/\n",
            "Requirement already satisfied: qiskit-ibm-runtime in /usr/local/lib/python3.8/dist-packages (0.8.0)\n",
            "Requirement already satisfied: numpy>=1.13 in /usr/local/lib/python3.8/dist-packages (from qiskit-ibm-runtime) (1.21.6)\n",
            "Requirement already satisfied: typing-extensions>=4.0.0 in /usr/local/lib/python3.8/dist-packages (from qiskit-ibm-runtime) (4.4.0)\n",
            "Requirement already satisfied: qiskit-terra>=0.22 in /usr/local/lib/python3.8/dist-packages (from qiskit-ibm-runtime) (0.22.3)\n",
            "Requirement already satisfied: urllib3>=1.21.1 in /usr/local/lib/python3.8/dist-packages (from qiskit-ibm-runtime) (1.26.13)\n",
            "Requirement already satisfied: websocket-client<=1.3.3 in /usr/local/lib/python3.8/dist-packages (from qiskit-ibm-runtime) (1.3.3)\n",
            "Requirement already satisfied: requests-ntlm>=1.1.0 in /usr/local/lib/python3.8/dist-packages (from qiskit-ibm-runtime) (1.1.0)\n",
            "Requirement already satisfied: python-dateutil>=2.8.0 in /usr/local/lib/python3.8/dist-packages (from qiskit-ibm-runtime) (2.8.2)\n",
            "Requirement already satisfied: requests>=2.19 in /usr/local/lib/python3.8/dist-packages (from qiskit-ibm-runtime) (2.28.1)\n",
            "Requirement already satisfied: ibm-platform-services>=0.22.6 in /usr/local/lib/python3.8/dist-packages (from qiskit-ibm-runtime) (0.30.2)\n",
            "Requirement already satisfied: ibm-cloud-sdk-core<4.0.0,>=3.16.0 in /usr/local/lib/python3.8/dist-packages (from ibm-platform-services>=0.22.6->qiskit-ibm-runtime) (3.16.0)\n",
            "Requirement already satisfied: PyJWT<3.0.0,>=2.4.0 in /usr/local/lib/python3.8/dist-packages (from ibm-cloud-sdk-core<4.0.0,>=3.16.0->ibm-platform-services>=0.22.6->qiskit-ibm-runtime) (2.6.0)\n",
            "Requirement already satisfied: six>=1.5 in /usr/local/lib/python3.8/dist-packages (from python-dateutil>=2.8.0->qiskit-ibm-runtime) (1.15.0)\n",
            "Requirement already satisfied: dill>=0.3 in /usr/local/lib/python3.8/dist-packages (from qiskit-terra>=0.22->qiskit-ibm-runtime) (0.3.6)\n",
            "Requirement already satisfied: stevedore>=3.0.0 in /usr/local/lib/python3.8/dist-packages (from qiskit-terra>=0.22->qiskit-ibm-runtime) (4.1.1)\n",
            "Requirement already satisfied: scipy>=1.5 in /usr/local/lib/python3.8/dist-packages (from qiskit-terra>=0.22->qiskit-ibm-runtime) (1.7.3)\n",
            "Requirement already satisfied: psutil>=5 in /usr/local/lib/python3.8/dist-packages (from qiskit-terra>=0.22->qiskit-ibm-runtime) (5.4.8)\n",
            "Requirement already satisfied: ply>=3.10 in /usr/local/lib/python3.8/dist-packages (from qiskit-terra>=0.22->qiskit-ibm-runtime) (3.11)\n",
            "Requirement already satisfied: retworkx>=0.11.0 in /usr/local/lib/python3.8/dist-packages (from qiskit-terra>=0.22->qiskit-ibm-runtime) (0.12.1)\n",
            "Requirement already satisfied: sympy>=1.3 in /usr/local/lib/python3.8/dist-packages (from qiskit-terra>=0.22->qiskit-ibm-runtime) (1.7.1)\n",
            "Requirement already satisfied: symengine>=0.9 in /usr/local/lib/python3.8/dist-packages (from qiskit-terra>=0.22->qiskit-ibm-runtime) (0.9.2)\n",
            "Requirement already satisfied: tweedledum<2.0,>=1.1 in /usr/local/lib/python3.8/dist-packages (from qiskit-terra>=0.22->qiskit-ibm-runtime) (1.1.1)\n",
            "Requirement already satisfied: idna<4,>=2.5 in /usr/local/lib/python3.8/dist-packages (from requests>=2.19->qiskit-ibm-runtime) (2.10)\n",
            "Requirement already satisfied: certifi>=2017.4.17 in /usr/local/lib/python3.8/dist-packages (from requests>=2.19->qiskit-ibm-runtime) (2022.9.24)\n",
            "Requirement already satisfied: charset-normalizer<3,>=2 in /usr/local/lib/python3.8/dist-packages (from requests>=2.19->qiskit-ibm-runtime) (2.1.1)\n",
            "Requirement already satisfied: ntlm-auth>=1.0.2 in /usr/local/lib/python3.8/dist-packages (from requests-ntlm>=1.1.0->qiskit-ibm-runtime) (1.5.0)\n",
            "Requirement already satisfied: cryptography>=1.3 in /usr/local/lib/python3.8/dist-packages (from requests-ntlm>=1.1.0->qiskit-ibm-runtime) (38.0.4)\n",
            "Requirement already satisfied: cffi>=1.12 in /usr/local/lib/python3.8/dist-packages (from cryptography>=1.3->requests-ntlm>=1.1.0->qiskit-ibm-runtime) (1.15.1)\n",
            "Requirement already satisfied: pycparser in /usr/local/lib/python3.8/dist-packages (from cffi>=1.12->cryptography>=1.3->requests-ntlm>=1.1.0->qiskit-ibm-runtime) (2.21)\n",
            "Requirement already satisfied: rustworkx==0.12.1 in /usr/local/lib/python3.8/dist-packages (from retworkx>=0.11.0->qiskit-terra>=0.22->qiskit-ibm-runtime) (0.12.1)\n",
            "Requirement already satisfied: pbr!=2.1.0,>=2.0.0 in /usr/local/lib/python3.8/dist-packages (from stevedore>=3.0.0->qiskit-terra>=0.22->qiskit-ibm-runtime) (5.11.0)\n",
            "Requirement already satisfied: mpmath>=0.19 in /usr/local/lib/python3.8/dist-packages (from sympy>=1.3->qiskit-terra>=0.22->qiskit-ibm-runtime) (1.2.1)\n"
          ]
        }
      ],
      "source": [
        "!pip install retworkx\n",
        "!pip install Qiskit\n",
        "!pip install qiskit_nature\n",
        "!pip install qiskit_ignis\n",
        "!pip install qiskit-ibm-runtime"
      ]
    },
    {
      "cell_type": "code",
      "source": [
        "import numpy as np\n",
        "\n",
        "from time import time\n",
        "from qiskit.providers.aer import QasmSimulator, Aer\n",
        "from qiskit_ibm_runtime import (QiskitRuntimeService, Session,\n",
        "                                Estimator as RuntimeEstimator,\n",
        "                                Sampler as RuntimeSampler)\n",
        "\n",
        "from qiskit import Aer\n",
        "\n",
        "from qiskit.algorithms.optimizers import SPSA,COBYLA,L_BFGS_B,SLSQP\n",
        "\n",
        "import matplotlib.pyplot as plt\n",
        "plt.rcParams.update({\"font.size\": 16})  # enlarge matplotlib fonts\n",
        "\n",
        "from qiskit.primitives import Estimator,Sampler,BackendSampler,BackendEstimator\n",
        "import retworkx as rx\n",
        "\n",
        "from qiskit_nature.problems.second_quantization.lattice import Lattice\n",
        "\n",
        "# Custom Heisenberg couplings\n",
        "from qiskit.algorithms import NumPyEigensolver\n",
        "\n",
        "from qiskit import QuantumCircuit, transpile\n",
        "from qiskit.circuit import Parameter,ParameterVector\n",
        "\n",
        "from qiskit import IBMQ\n",
        "\n",
        "from qiskit import Aer, assemble, QuantumCircuit, QuantumRegister, ClassicalRegister, IBMQ, transpile, execute\n",
        "from qiskit.circuit import Gate, Instruction, Parameter,ParameterVector\n",
        "\n",
        "from util import GEM_calibration_circuits,qiskit_calibration_circuits,occurrences_to_vector,bin_list,occurrences_to_vector_decimal,DecimalToBinary\n",
        "\n",
        "from qiskit.algorithms import MinimumEigensolver, VQEResult\n",
        "from qiskit.result import marginal_counts\n",
        "\n",
        "from qiskit.opflow import X, Z, I,Y\n"
      ],
      "metadata": {
        "id": "TSpCYCy7K4eY"
      },
      "execution_count": 53,
      "outputs": []
    },
    {
      "cell_type": "code",
      "source": [
        "z=np.matrix([[1,0],[0,-1]])\n",
        "z3=np.kron(z,np.kron(z,z))\n",
        "print(z3)"
      ],
      "metadata": {
        "colab": {
          "base_uri": "https://localhost:8080/"
        },
        "id": "hgBwnjSQK69p",
        "outputId": "39bd152f-56de-49eb-8916-5ee8d94f8a38"
      },
      "execution_count": 54,
      "outputs": [
        {
          "output_type": "stream",
          "name": "stdout",
          "text": [
            "[[ 1  0  0  0  0  0  0  0]\n",
            " [ 0 -1  0  0  0  0  0  0]\n",
            " [ 0  0 -1  0  0  0  0  0]\n",
            " [ 0  0  0  1  0  0  0  0]\n",
            " [ 0  0  0  0 -1  0  0  0]\n",
            " [ 0  0  0  0  0  1  0  0]\n",
            " [ 0  0  0  0  0  0  1  0]\n",
            " [ 0  0  0  0  0  0  0 -1]]\n"
          ]
        }
      ]
    },
    {
      "cell_type": "code",
      "source": [
        "def Hamiltonian_heisenberg(g,h):\n",
        "  X1 = X^X^X^I^I\n",
        "  X2 = I^I^X^X^X\n",
        "  Z0 = Z^I^I^I^I\n",
        "  Z1 = I^Z^I^I^I\n",
        "  Z2 = I^I^Z^I^I\n",
        "  Z3 = I^I^I^Z^I\n",
        "  Z4 = I^I^I^I^Z\n",
        "\n",
        "  H=(h*X1) + \\\n",
        "    (h*X2) + \\\n",
        "    (g*Z0) + \\\n",
        "    (g*Z1) + \\\n",
        "    (g*Z2) + \\\n",
        "    (g*Z3) + \\\n",
        "    (g*Z4)\n",
        "  return H"
      ],
      "metadata": {
        "id": "NP-_wgoFK-nW"
      },
      "execution_count": 55,
      "outputs": []
    },
    {
      "cell_type": "code",
      "source": [
        "ham=Hamiltonian_heisenberg(1,1)"
      ],
      "metadata": {
        "id": "hNvmDM2vK_gN"
      },
      "execution_count": 56,
      "outputs": []
    },
    {
      "cell_type": "code",
      "source": [
        "edge_list=[[0],[1],[2],[3],[4],[0,1,2],[2,3,4]]\n",
        "comp_edge_list=[[1,2,3,4],[0,2,3,4],[0,1,3,4],[0,1,2,3],[3,4],[0,1]]"
      ],
      "metadata": {
        "id": "1LVgab6gLECt"
      },
      "execution_count": 57,
      "outputs": []
    },
    {
      "cell_type": "code",
      "source": [
        "# find the first three (k=3) eigenvalues\n",
        "exact_solver = NumPyEigensolver(k=32)\n",
        "exact_result = exact_solver.compute_eigenvalues(ham)\n",
        "print(exact_result.eigenvalues)\n",
        "\n",
        "\n",
        "# Save ground state energy for later\n",
        "gs_energy = np.round(exact_result.eigenvalues[0], 4)"
      ],
      "metadata": {
        "colab": {
          "base_uri": "https://localhost:8080/"
        },
        "id": "_71I79mXLGZ3",
        "outputId": "e738b499-8bbc-46b9-9d57-e07ddfde7b18"
      },
      "execution_count": 58,
      "outputs": [
        {
          "output_type": "stream",
          "name": "stdout",
          "text": [
            "[-5.32849588 -3.78276476 -3.60555128 -3.60555128 -3.60555128 -3.60555128\n",
            " -2.23606798 -2.23606798 -1.         -1.         -1.         -1.\n",
            " -1.         -1.         -1.         -0.54573112  0.54573112  1.\n",
            "  1.          1.          1.          1.          1.          1.\n",
            "  2.23606798  2.23606798  3.60555128  3.60555128  3.60555128  3.60555128\n",
            "  3.78276476  5.32849588]\n"
          ]
        }
      ]
    },
    {
      "cell_type": "code",
      "source": [
        "def ham_ans_gen(num_qubits,depth):\n",
        "  theta = ParameterVector(\"t\",depth*7)\n",
        "  qr=QuantumRegister(num_qubits)\n",
        "  circuit = QuantumCircuit(qr)\n",
        "  index = 0\n",
        "\n",
        "  for _ in range (0,depth): \n",
        "\n",
        "    circuit.cx(qr[1],qr[2])\n",
        "    circuit.cx(qr[3],qr[2])\n",
        "    circuit.cx(qr[0],qr[1])\n",
        "    circuit.cx(qr[4],qr[3])\n",
        "\n",
        "    circuit.rx(theta[index],qr[0])\n",
        "    index+=1\n",
        "    circuit.rx(theta[index],qr[4])\n",
        "    index+=1\n",
        "\n",
        "    circuit.cx(qr[4],qr[3])\n",
        "    circuit.cx(qr[0],qr[1])\n",
        "    circuit.cx(qr[3],qr[2])\n",
        "    circuit.cx(qr[1],qr[2])\n",
        "  \n",
        "    \n",
        "    for i in range (0,5):\n",
        "      circuit.h(qr[i])\n",
        "      circuit.rz(theta[index],qr[i])\n",
        "      index+=1\n",
        "    \n",
        "  return circuit\n"
      ],
      "metadata": {
        "id": "VUdFxQIkLJQO"
      },
      "execution_count": 59,
      "outputs": []
    },
    {
      "cell_type": "code",
      "source": [
        "from qiskit import Aer, assemble, QuantumCircuit, QuantumRegister, ClassicalRegister, IBMQ, transpile, execute\n",
        "from qiskit.circuit import Gate, Instruction, Parameter,ParameterVector\n",
        "\n",
        "\n",
        "def pres_ans(depth,magne):\n",
        "  qr_sym= QuantumRegister(5)\n",
        "  qc_sym = QuantumCircuit(qr_sym)\n",
        "\n",
        "  theta = ParameterVector(\"t\",depth*12)\n",
        "  index=0\n",
        "  for i in range (0,magne):\n",
        "    qc_sym.x(qr_sym[i])\n",
        "  qc_sym.barrier()\n",
        "  for i in range (0,depth):\n",
        "    for j in range(0,2):\n",
        "      qc_sym.h(qr_sym[j*2])\n",
        "      qc_sym.rz(theta[index],qr_sym[j*2+1])\n",
        "      index+=1\n",
        "      qc_sym.cx(qr_sym[j*2],qr_sym[j*2+1])\n",
        "      qc_sym.ry(theta[index],qr_sym[j*2])\n",
        "      qc_sym.ry(theta[index],qr_sym[j*2+1])\n",
        "      index+=1\n",
        "      qc_sym.cx(qr_sym[j*2],qr_sym[j*2+1])\n",
        "      qc_sym.h(qr_sym[j*2])\n",
        "      qc_sym.rz(theta[index],qr_sym[j*2+1])\n",
        "      index+=1\n",
        "    qc_sym.barrier()\n",
        "    for j in range(0,2):\n",
        "      qc_sym.h(qr_sym[j*2+1])\n",
        "      qc_sym.rz(theta[index],qr_sym[j*2+2])\n",
        "      index+=1\n",
        "      qc_sym.cx(qr_sym[j*2+1],qr_sym[j*2+2])\n",
        "      qc_sym.ry(theta[index],qr_sym[j*2+1])\n",
        "      qc_sym.ry(theta[index],qr_sym[j*2+2])\n",
        "      index+=1\n",
        "      qc_sym.cx(qr_sym[j*2+1],qr_sym[j*2+2])\n",
        "      qc_sym.h(qr_sym[j*2+1])\n",
        "      qc_sym.rz(theta[index],qr_sym[j*2+2])\n",
        "      index+=1\n",
        "  return qc_sym"
      ],
      "metadata": {
        "id": "Z8uR7lHvvXjW"
      },
      "execution_count": 60,
      "outputs": []
    },
    {
      "cell_type": "code",
      "source": [
        "pres_ans(1,1).draw()"
      ],
      "metadata": {
        "colab": {
          "base_uri": "https://localhost:8080/",
          "height": 356
        },
        "id": "1nG2kKARv0wa",
        "outputId": "edd7952f-8a3f-41ca-e58e-0e6c0b80416b"
      },
      "execution_count": 61,
      "outputs": [
        {
          "output_type": "execute_result",
          "data": {
            "text/plain": [
              "         ┌───┐ ░    ┌───┐         ┌──────────┐        ┌───┐     ░             »\n",
              "q1222_0: ┤ X ├─░────┤ H ├──────■──┤ Ry(t[1]) ├──■─────┤ H ├─────░─────────────»\n",
              "         └───┘ ░ ┌──┴───┴───┐┌─┴─┐├──────────┤┌─┴─┐┌──┴───┴───┐ ░    ┌───┐    »\n",
              "q1222_1: ──────░─┤ Rz(t[0]) ├┤ X ├┤ Ry(t[1]) ├┤ X ├┤ Rz(t[2]) ├─░────┤ H ├────»\n",
              "               ░ └──┬───┬───┘└───┘├──────────┤└───┘└──┬───┬───┘ ░ ┌──┴───┴───┐»\n",
              "q1222_2: ──────░────┤ H ├──────■──┤ Ry(t[4]) ├──■─────┤ H ├─────░─┤ Rz(t[6]) ├»\n",
              "               ░ ┌──┴───┴───┐┌─┴─┐├──────────┤┌─┴─┐┌──┴───┴───┐ ░ └──┬───┬───┘»\n",
              "q1222_3: ──────░─┤ Rz(t[3]) ├┤ X ├┤ Ry(t[4]) ├┤ X ├┤ Rz(t[5]) ├─░────┤ H ├────»\n",
              "               ░ └──────────┘└───┘└──────────┘└───┘└──────────┘ ░ ┌──┴───┴───┐»\n",
              "q1222_4: ──────░────────────────────────────────────────────────░─┤ Rz(t[9]) ├»\n",
              "               ░                                                ░ └──────────┘»\n",
              "«                                             \n",
              "«q1222_0: ────────────────────────────────────\n",
              "«               ┌──────────┐         ┌───┐    \n",
              "«q1222_1: ──■───┤ Ry(t[7]) ├──■──────┤ H ├────\n",
              "«         ┌─┴─┐ ├──────────┤┌─┴─┐ ┌──┴───┴───┐\n",
              "«q1222_2: ┤ X ├─┤ Ry(t[7]) ├┤ X ├─┤ Rz(t[8]) ├\n",
              "«         └───┘┌┴──────────┤└───┘ └──┬───┬───┘\n",
              "«q1222_3: ──■──┤ Ry(t[10]) ├──■──────┤ H ├────\n",
              "«         ┌─┴─┐├───────────┤┌─┴─┐┌───┴───┴───┐\n",
              "«q1222_4: ┤ X ├┤ Ry(t[10]) ├┤ X ├┤ Rz(t[11]) ├\n",
              "«         └───┘└───────────┘└───┘└───────────┘"
            ],
            "text/html": [
              "<pre style=\"word-wrap: normal;white-space: pre;background: #fff0;line-height: 1.1;font-family: &quot;Courier New&quot;,Courier,monospace\">         ┌───┐ ░    ┌───┐         ┌──────────┐        ┌───┐     ░             »\n",
              "q1222_0: ┤ X ├─░────┤ H ├──────■──┤ Ry(t[1]) ├──■─────┤ H ├─────░─────────────»\n",
              "         └───┘ ░ ┌──┴───┴───┐┌─┴─┐├──────────┤┌─┴─┐┌──┴───┴───┐ ░    ┌───┐    »\n",
              "q1222_1: ──────░─┤ Rz(t[0]) ├┤ X ├┤ Ry(t[1]) ├┤ X ├┤ Rz(t[2]) ├─░────┤ H ├────»\n",
              "               ░ └──┬───┬───┘└───┘├──────────┤└───┘└──┬───┬───┘ ░ ┌──┴───┴───┐»\n",
              "q1222_2: ──────░────┤ H ├──────■──┤ Ry(t[4]) ├──■─────┤ H ├─────░─┤ Rz(t[6]) ├»\n",
              "               ░ ┌──┴───┴───┐┌─┴─┐├──────────┤┌─┴─┐┌──┴───┴───┐ ░ └──┬───┬───┘»\n",
              "q1222_3: ──────░─┤ Rz(t[3]) ├┤ X ├┤ Ry(t[4]) ├┤ X ├┤ Rz(t[5]) ├─░────┤ H ├────»\n",
              "               ░ └──────────┘└───┘└──────────┘└───┘└──────────┘ ░ ┌──┴───┴───┐»\n",
              "q1222_4: ──────░────────────────────────────────────────────────░─┤ Rz(t[9]) ├»\n",
              "               ░                                                ░ └──────────┘»\n",
              "«                                             \n",
              "«q1222_0: ────────────────────────────────────\n",
              "«               ┌──────────┐         ┌───┐    \n",
              "«q1222_1: ──■───┤ Ry(t[7]) ├──■──────┤ H ├────\n",
              "«         ┌─┴─┐ ├──────────┤┌─┴─┐ ┌──┴───┴───┐\n",
              "«q1222_2: ┤ X ├─┤ Ry(t[7]) ├┤ X ├─┤ Rz(t[8]) ├\n",
              "«         └───┘┌┴──────────┤└───┘ └──┬───┬───┘\n",
              "«q1222_3: ──■──┤ Ry(t[10]) ├──■──────┤ H ├────\n",
              "«         ┌─┴─┐├───────────┤┌─┴─┐┌───┴───┴───┐\n",
              "«q1222_4: ┤ X ├┤ Ry(t[10]) ├┤ X ├┤ Rz(t[11]) ├\n",
              "«         └───┘└───────────┘└───┘└───────────┘</pre>"
            ]
          },
          "metadata": {},
          "execution_count": 61
        }
      ]
    },
    {
      "cell_type": "code",
      "source": [
        "def circs_to_run_to_mitigate(ansatz,edges):\n",
        "  num_qubits=[]\n",
        "  circs=[]\n",
        "  qr_z=QuantumRegister(5)\n",
        "  qc_z=QuantumCircuit(qr_z)\n",
        "\n",
        "  qc_z.append(ansatz,qr_z)\n",
        "  qc_z.measure_all()\n",
        "\n",
        "  qr_x=QuantumRegister(5)\n",
        "  qc_x=QuantumCircuit(qr_x)\n",
        "\n",
        "  qc_x.append(ansatz,qr_x)\n",
        "  qc_x.h(qr_x[i] for i in range (0,5))\n",
        "  qc_x.measure_all()\n",
        "\n",
        "  circs.append(qc_z)\n",
        "  circs.append(qc_x)\n",
        "  num_qubits.append(qc_z.num_qubits)\n",
        "  num_qubits.append(qc_x.num_qubits)\n",
        "\n",
        "\n",
        "\n",
        "\n",
        "  for vert in edge_list:\n",
        "    cal_circ_qiskit,s_labels=qiskit_calibration_circuits(5,vert)\n",
        "    cal_circ_GEM,s_labels=GEM_calibration_circuits(ansatz,vert)\n",
        "    circs+=cal_circ_qiskit\n",
        "    circs+=cal_circ_GEM[0]\n",
        "    circs+=cal_circ_GEM[1]\n",
        "    for i in range (0,3*(2**len(vert))):\n",
        "      num_qubits.append(len(vert))\n",
        "  \n",
        "  #print(len(circs))\n",
        "  return circs,s_labels,num_qubits"
      ],
      "metadata": {
        "id": "WIU8nZ-NLMcT"
      },
      "execution_count": 62,
      "outputs": []
    },
    {
      "cell_type": "code",
      "source": [
        "def circs_to_run(ansatz):\n",
        "  num_qubits=[]\n",
        "  circs=[]\n",
        "  qr_z=QuantumRegister(5)\n",
        "  qc_z=QuantumCircuit(qr_z)\n",
        "\n",
        "  qc_z.append(ansatz,qr_z)\n",
        "  qc_z.measure_all()\n",
        "\n",
        "  qr_x=QuantumRegister(5)\n",
        "  qc_x=QuantumCircuit(qr_x)\n",
        "\n",
        "  qc_x.append(ansatz,qr_x)\n",
        "  qc_x.h(qr_x[i] for i in range (0,5))\n",
        "  qc_x.measure_all()\n",
        "\n",
        "  circs.append(qc_z)\n",
        "  circs.append(qc_x)\n",
        "\n",
        "  num_qubits.append(qc_z.num_qubits)\n",
        "  num_qubits.append(qc_x.num_qubits)\n",
        "\n",
        "  return circs,num_qubits"
      ],
      "metadata": {
        "id": "RvwwATK2LRX0"
      },
      "execution_count": 63,
      "outputs": []
    },
    {
      "cell_type": "code",
      "source": [
        "spsa = SPSA(maxiter=100,blocking=False, allowed_increase=1, trust_region=False,\n",
        "                 learning_rate=None, perturbation=None, last_avg=10, resamplings=10,\n",
        "                 perturbation_dims=None, second_order=False, regularization=None, \n",
        "                 hessian_delay=0, lse_solver=None, initial_hessian=None, callback=None,\n",
        "                 termination_checker=None)\n",
        "\n",
        "cobyla=COBYLA(maxiter=100, disp=True, rhobeg=3.0, tol=1e-2, options=None)\n",
        "slsqp=SLSQP(maxiter=100, disp=False, ftol=1e-06, tol=None, eps=1.4901161193847656e-08, options=None, max_evals_grouped=1)"
      ],
      "metadata": {
        "id": "uid-Dq4qLdj0"
      },
      "execution_count": 64,
      "outputs": []
    },
    {
      "cell_type": "code",
      "source": [
        "from qiskit.utils.mitigation.fitters import CompleteMeasFitter\n",
        "import copy\n",
        "def meas_fitters(counts,edge,num):\n",
        "  vec=[0,6,12,18,24,30,54]\n",
        "  backend=Aer.get_backend('aer_simulator')\n",
        "  meas_calibs, s_labels = qiskit_calibration_circuits(5,qubits_measure=edge)\n",
        "  job_cal_aux = execute(meas_calibs, backend)\n",
        "  cal_results_aux = job_cal_aux.result()\n",
        "  cal_counts_aux=cal_results_aux.get_counts()\n",
        "  meas_fitter_aux = CompleteMeasFitter(cal_results_aux, s_labels)\n",
        "  job_qiskit=copy.deepcopy(cal_results_aux)\n",
        "  for i in range (0,len(s_labels)):\n",
        "    job_qiskit.results[i].data.counts=counts[2+vec[num]+i]\n",
        "  meas_fitter = CompleteMeasFitter(job_qiskit, s_labels)\n",
        "  job_GEM_L=copy.deepcopy(cal_results_aux)\n",
        "  job_GEM_R=copy.deepcopy(cal_results_aux)\n",
        "  for i in range (0,len(s_labels)):\n",
        "    job_GEM_L.results[i].data.counts=meas_fitter.filter.apply(counts[2+vec[num]+len(s_labels)+i],method=\"least_squares\")\n",
        "    job_GEM_R.results[i].data.counts=meas_fitter.filter.apply(counts[2+vec[num]+2*len(s_labels)+i],method=\"least_squares\")\n",
        "  meas_fitter_GEM_L = CompleteMeasFitter(job_GEM_L, state_labels=s_labels)\n",
        "  meas_fitter_GEM_R = CompleteMeasFitter(job_GEM_R, state_labels=s_labels)\n",
        "  Cal_GEM_L = meas_fitter_GEM_L.cal_matrix\n",
        "  Cal_GEM_R = meas_fitter_GEM_R.cal_matrix\n",
        "  C=(Cal_GEM_L+Cal_GEM_R)/2\n",
        "  rand_vec_prob=np.sum(C,axis=1,dtype='float')/(len(s_labels))\n",
        "  p_t=(C[0][0]-1)/(rand_vec_prob[0]-1)\n",
        "  rand_vec=p_t*shots*rand_vec_prob\n",
        "\n",
        "  D=np.zeros((len(s_labels),len(s_labels)))\n",
        "\n",
        "  for k in range (0,len(s_labels)):\n",
        "      for j in range (0,len(s_labels)):\n",
        "          D[k][j]=(C[k][j]-p_t*rand_vec_prob[k])/(1-p_t)\n",
        "    \n",
        "    \n",
        "  meas_fitter_GP=copy.deepcopy(meas_fitter_aux)\n",
        "  meas_fitter_GP.cal_matrices=D\n",
        "  meas_fitter_GEM=copy.deepcopy(meas_fitter_aux)\n",
        "  meas_fitter_GEM.cal_matrices=C\n",
        "  return meas_fitter,meas_fitter_GEM,p_t,rand_vec,s_labels"
      ],
      "metadata": {
        "id": "xNc2rbpULir2"
      },
      "execution_count": 65,
      "outputs": []
    },
    {
      "cell_type": "code",
      "source": [
        "shots=10000\n",
        "import collections\n",
        "# Define a custome VQE class to orchestra the ansatz, classical optimizers, \n",
        "# initial point, callback, and final result\n",
        "class GEMCustomVQE(MinimumEigensolver):\n",
        "    \n",
        "    def __init__(self, sampler, circuit, optimizer,time_start,meas_fitter_qiskit=None,meas_fitter_GEM=None, callback=None):\n",
        "        self._sampler = sampler\n",
        "        self._circuit = circuit\n",
        "        self._optimizer = optimizer\n",
        "        self._callback = callback\n",
        "        self._meas_fitter_qiskit = meas_fitter_qiskit\n",
        "        self._meas_fitter_GEM = meas_fitter_GEM\n",
        "        self._time_start=time\n",
        "        \n",
        "    def compute_minimum_eigenvalue(self):\n",
        "                \n",
        "        # Define objective function to classically minimize over\n",
        "        def objective(x):\n",
        "            qc_cal_bound=self._circuit.assign_parameters(x)\n",
        "            energy=0\n",
        "            if (self._meas_fitter_qiskit==None or (time()-self._time_start)>2700):\n",
        "              print('calibration')\n",
        "              \n",
        "\n",
        "              circs,s_labels,num_qubits=circs_to_run_to_mitigate(qc_cal_bound,edge_list)\n",
        "              #self._circuit=circs\n",
        "              # Execute job with sampler primitive\n",
        "              job = self._sampler.run(circuits=circs,parameter_values=None, parameters=None,shots=10000)\n",
        "              job_result=job.result().quasi_dists\n",
        "              #print(job_result)\n",
        "              # Get results from jobs\n",
        "              \n",
        "              new_dict=[]\n",
        "              for i in range (0,len(job_result)):\n",
        "                b=list(job_result[i].keys())\n",
        "                for j in range (0,len(b)):\n",
        "                  b[j]=DecimalToBinary(b[j],num_qubits[i])\n",
        "                #print(b)\n",
        "                a=list(job_result[i].values())\n",
        "                labels=bin_list(int(np.log2(len(a))))\n",
        "                new_dict.append(dict(zip(b,a)))\n",
        "              self._meas_fitter_qiskit=[]\n",
        "              self._meas_fitter_GEM=[]\n",
        "              for i,vert in enumerate(edge_list):\n",
        "                m_q,m_g,p_t,rand_vec,s_labels=meas_fitters(new_dict,vert,i)\n",
        "                self._meas_fitter_qiskit.append(m_q)\n",
        "                self._meas_fitter_GEM.append(m_g)\n",
        "              self._time_start=time()\n",
        "            else:\n",
        "              circs,num_qubits=circs_to_run(qc_cal_bound)\n",
        "              job = self._sampler.run(circuits=circs,parameter_values=None, parameters=None,shots=10000)\n",
        "              job_result=job.result().quasi_dists\n",
        "              # Get results from jobs\n",
        "              new_dict=[]\n",
        "              for i in range (0,len(job_result)):\n",
        "                b=list(job_result[i].keys())\n",
        "                for j in range (0,len(b)):\n",
        "                  b[j]=DecimalToBinary(b[j],num_qubits[i])\n",
        "                #print(b)\n",
        "                a=list(job_result[i].values())\n",
        "                labels=bin_list(int(np.log2(len(a))))\n",
        "                new_dict.append(dict(zip(b,a)))\n",
        "            for j,vert in enumerate(edge_list):\n",
        "              if (j<5):\n",
        "                #print(vert)\n",
        "                #print(new_dict[0])\n",
        "                marginalised_counts = marginal_counts(new_dict[0], indices=vert)\n",
        "                #print(marginalised_counts)\n",
        "\n",
        "                qiskit_counts=self._meas_fitter_qiskit[j].filter.apply(marginalised_counts,method=\"least_squares\")\n",
        "                mitigated_counts=self._meas_fitter_GEM[j].filter.apply(qiskit_counts,method=\"least_squares\")\n",
        "                mitigated_vector=occurrences_to_vector(mitigated_counts)\n",
        "                energy_string=mitigated_vector[0]-mitigated_vector[1]\n",
        "                energy+=energy_string\n",
        "              else:\n",
        "                #print(vert)\n",
        "                #print(new_dict[1])\n",
        "                marginalised_counts = marginal_counts(new_dict[1], indices=vert)\n",
        "                #print(marginalised_counts)\n",
        "                qiskit_counts=self._meas_fitter_qiskit[j].filter.apply(marginalised_counts,method=\"least_squares\")\n",
        "                mitigated_counts=self._meas_fitter_GEM[j].filter.apply(qiskit_counts,method=\"least_squares\")\n",
        "                mitigated_vector=occurrences_to_vector(mitigated_counts)\n",
        "                energy_string=mitigated_vector[0]-mitigated_vector[1]-mitigated_vector[2]+mitigated_vector[3]-mitigated_vector[4]+mitigated_vector[5]+mitigated_vector[6]-mitigated_vector[7]\n",
        "                energy+=energy_string\n",
        "            print(energy)\n",
        "            # Save result information using callback function\n",
        "            if self._callback is not None:\n",
        "                self._callback(energy)   \n",
        "            return energy\n",
        "            \n",
        "        # Select an initial point for the ansatzs' parameters\n",
        "        '''\n",
        "        x0=np.ones(self._circuit.num_parameters)\n",
        "        x0 = x0*np.pi/2#*np.random.rand(self._circuit.num_parameters)\n",
        "        '''\n",
        "        x0=np.zeros(self._circuit.num_parameters)\n",
        "        x0=x0*np.pi/2\n",
        "        #x0 =np.random.rand(self._circuit.num_parameters)/10\n",
        "        # Run optimization\n",
        "        res = self._optimizer.minimize(objective, x0=x0)\n",
        "        \n",
        "        # Populate VQE result\n",
        "        result = VQEResult()\n",
        "        result.cost_function_evals = res.nfev\n",
        "        result.eigenvalue = res.fun\n",
        "        result.optimal_parameters = res.x\n",
        "        return result"
      ],
      "metadata": {
        "id": "zAaa1f4BL2-0"
      },
      "execution_count": 66,
      "outputs": []
    },
    {
      "cell_type": "code",
      "source": [
        "# Define a simple callback function\n",
        "intermediate_info = []\n",
        "def callback(value):\n",
        "        intermediate_info.append(value)\n",
        "# Setup VQE algorithm\n",
        "custom_vqe = GEMCustomVQE(Sampler(), pres_ans(1,5), cobyla,time(), meas_fitter_qiskit=None,meas_fitter_GEM=None, callback=callback)\n",
        "\n",
        "# Run the custom VQE function and monitor execution time\n",
        "start = time()\n",
        "result = custom_vqe.compute_minimum_eigenvalue()\n",
        "end = time()\n",
        "\n",
        "print(result)\n",
        "print(f'execution time (s): {end - start:.2f}')\n",
        "plt.figure(figsize=(13,11))\n",
        "plt.plot(intermediate_info, color='purple', lw=2, label='Simulated VQE')\n",
        "plt.ylabel('Energy')\n",
        "plt.xlabel('Iterations')\n",
        "# Exact ground state energy value\n",
        "plt.axhline(y=gs_energy, color=\"tab:red\", ls=\"--\", lw=2, label=\"Target: \" + str(gs_energy))\n",
        "plt.legend()\n",
        "plt.grid()\n",
        "plt.show()"
      ],
      "metadata": {
        "colab": {
          "base_uri": "https://localhost:8080/",
          "height": 1000
        },
        "id": "IkOvNErjeU3r",
        "outputId": "2d23e9ff-6571-406f-ab50-36ca354bdba4"
      },
      "execution_count": 74,
      "outputs": [
        {
          "output_type": "stream",
          "name": "stdout",
          "text": [
            "calibration\n",
            "-4.999400000056435\n",
            "-5.01699999990295\n",
            "-4.991902872636258\n",
            "-4.997799999714003\n",
            "-4.98839999973724\n",
            "-4.972999999921089\n",
            "-4.9968000002560355\n",
            "-5.001799999908325\n",
            "-5.015400000396118\n",
            "-4.997999999951729\n",
            "-5.012200000039778\n",
            "-4.973400000444193\n",
            "-4.996999999957528\n",
            "-4.991200000196973\n",
            "-5.007000000133129\n",
            "-4.992999999401874\n",
            "-5.003206204068075\n",
            "-5.00145041989998\n",
            "-4.96979999959195\n",
            "-4.993399999901532\n",
            "-5.005796632416068\n",
            "-4.999600000263817\n",
            "-5.000800000169888\n",
            "-4.9982056171075335\n",
            "-4.981571446777177\n",
            "-5.011999999851209\n",
            "-5.018799999812516\n",
            "-5.018144416987552\n",
            "-4.990799999465939\n",
            "-5.007400000705798\n",
            "-4.992800000245833\n",
            "-4.984600000721759\n",
            "-4.999904366062269\n",
            "-5.004350649508326\n",
            "-4.975199999837089\n",
            "-4.985599999683916\n",
            "-4.995800000508037\n",
            "-4.997000000182946\n",
            "-4.99762485470333\n",
            "-5.032399999747081\n",
            "-4.985800000140223\n"
          ]
        },
        {
          "output_type": "stream",
          "name": "stderr",
          "text": [
            "/usr/local/lib/python3.8/dist-packages/scipy/optimize/optimize.py:282: RuntimeWarning: Values in x were outside bounds during a minimize step, clipping to bounds\n",
            "  warnings.warn(\"Values in x were outside bounds during a \"\n"
          ]
        },
        {
          "output_type": "stream",
          "name": "stdout",
          "text": [
            "-4.997000000090832\n",
            "-4.998799999715566\n",
            "-5.003600000616718\n",
            "-5.016999999836553\n",
            "-5.0060000003239615\n",
            "-5.007800000434428\n",
            "-4.978497682541869\n",
            "-4.989799999742431\n",
            "-4.994799999125249\n",
            "-5.021999999885727\n",
            "-4.97999999985468\n",
            "-5.008200000185205\n",
            "-5.0137999998319325\n",
            "-4.999999999722553\n",
            "-5.003400000189749\n",
            "-5.010200000460113\n",
            "-4.998999999816524\n",
            "-5.006000000019792\n",
            "-4.994199999773135\n",
            "-4.99000000003987\n",
            "-5.015000000249884\n",
            "-5.014199999357664\n",
            "-4.99900000028237\n",
            "-5.029600000294455\n",
            "-5.001591914645867\n",
            "-5.010400000159169\n",
            "-5.002999999763642\n",
            "-4.997400000115266\n",
            "-5.010000000667204\n",
            "-5.011400000580594\n",
            "-4.9996000003261845\n",
            "-4.9661999992896115\n",
            "-4.997799999508763\n",
            "-4.969600000099467\n",
            "-4.991000000076919\n",
            "-5.0140000007079015\n",
            "-5.000800000115662\n",
            "-5.002200000174569\n",
            "{   'aux_operator_eigenvalues': None,\n",
            "    'cost_function_evals': 79,\n",
            "    'eigenstate': None,\n",
            "    'eigenvalue': -5.002200000174569,\n",
            "    'optimal_circuit': None,\n",
            "    'optimal_parameters': array([ 3.07099305e+00, -2.24626714e-02,  3.47834741e-02, -2.49796712e-02,\n",
            "       -3.27285967e-02, -1.59708735e-01, -1.00096334e-02,  9.43787790e-04,\n",
            "       -1.65631223e-02, -2.90904527e-01,  3.51433613e-02, -3.65982063e-02]),\n",
            "    'optimal_point': None,\n",
            "    'optimal_value': None,\n",
            "    'optimizer_evals': None,\n",
            "    'optimizer_result': None,\n",
            "    'optimizer_time': None}\n",
            "execution time (s): 5.08\n"
          ]
        },
        {
          "output_type": "display_data",
          "data": {
            "text/plain": [
              "<Figure size 936x792 with 1 Axes>"
            ],
            "image/png": "[encoded data removed]"
          },
          "metadata": {
            "needs_background": "light"
          }
        }
      ]
    },
    {
      "cell_type": "code",
      "source": [
        "#IBMQ.disable_account()\n",
        "#provider = IBMQ.enable_account('c0df7c866f628346a4ad9eb0955b0b9e8ffedc7dc25fa33a87a59e50864c059fa00f211c7f611efee085a4b810646179209cc819b26a4903c733466bb8b96f51')\n",
        "IBMQ.update_account()\n",
        "print(IBMQ.providers())\n",
        "\n",
        "\n",
        "provider = IBMQ.get_provider(hub='ibm-q',\n",
        "                            group='open', \n",
        "                            project='main')\n",
        "backend_sim_noisy_jakarta = QasmSimulator.from_backend(provider.get_backend('ibmq_manila'))\n",
        "backend_real_jakarta = provider.get_backend('ibmq_manila')\n",
        "backend_sim_ideal = Aer.get_backend('aer_simulator')\n",
        "BACKEND = backend_sim_noisy_jakarta"
      ],
      "metadata": {
        "id": "2O-qM22Zj2oZ"
      },
      "execution_count": null,
      "outputs": []
    },
    {
      "cell_type": "code",
      "source": [
        "# Save an IBM Quantum account. See docs for credential security warning\n",
        "# https://github.com/Qiskit/qiskit-ibm-runtime/tree/stable/0.7#saving-account-on-disk\n",
        "QiskitRuntimeService.save_account(channel=\"ibm_quantum\",overwrite=True, token='c0df7c866f628346a4ad9eb0955b0b9e8ffedc7dc25fa33a87a59e50864c059fa00f211c7f611efee085a4b810646179209cc819b26a4903c733466bb8b96f51')\n",
        "service = QiskitRuntimeService(channel='ibm_quantum')"
      ],
      "metadata": {
        "id": "FLilBRVEj6Qx"
      },
      "execution_count": null,
      "outputs": []
    },
    {
      "cell_type": "code",
      "source": [
        "# Get fake backend if you like\n",
        "from qiskit.providers.fake_provider import FakeManila\n",
        "\n",
        "# Noisy simulator backend\n",
        "noisy_sim = FakeManila()\n",
        "\n",
        "backend = 'ibmq_manila'"
      ],
      "metadata": {
        "id": "LS_cTe6Wj-Jg"
      },
      "execution_count": null,
      "outputs": []
    },
    {
      "cell_type": "code",
      "source": [
        "# Define a simple callback function\n",
        "intermediate_info_sim_backend = []\n",
        "def callback_sim(value):\n",
        "        intermediate_info_sim_backend.append(value)\n",
        "        #print(value)"
      ],
      "metadata": {
        "id": "vR1VFPWgkBK-"
      },
      "execution_count": null,
      "outputs": []
    },
    {
      "cell_type": "code",
      "source": [
        "from qiskit_ibm_runtime import QiskitRuntimeService, Session, Sampler, Options\n",
        "\n",
        "# Setup Estimator\n",
        "start = time()\n",
        "options = Options()\n",
        "options.optimization_level = 0\n",
        "options.resilience_level = 0\n",
        "with Session(service=service, backend=backend) as session:\n",
        "    # Prepare primitive\n",
        "    rt_estimator = RuntimeSampler(session=session,options=options)\n",
        "    # Set up algorithm\n",
        "    custom_vqe = GEMCustomVQE(rt_estimator, ham_ans_gen(5,2), cobyla, time(),meas_fitter_qiskit=None,meas_fitter_GEM=None, callback=callback_sim)\n",
        "    # Run algorithm\n",
        "    result = custom_vqe.compute_minimum_eigenvalue()\n",
        "end = time()\n",
        "print(f'execution time (s): {end - start:.2f}')"
      ],
      "metadata": {
        "id": "NhqSz9nFkFUs"
      },
      "execution_count": null,
      "outputs": []
    },
    {
      "cell_type": "code",
      "source": [
        "print(result)\n",
        "print(f'execution time (s): {end - start:.2f}')\n",
        "plt.figure(figsize=(13,11))\n",
        "plt.plot(intermediate_info_sim_backend, color='purple', lw=2, label='Simulated VQE')\n",
        "plt.ylabel('Energy')\n",
        "plt.xlabel('Iterations')\n",
        "# Exact ground state energy value\n",
        "plt.axhline(y=gs_energy, color=\"tab:red\", ls=\"--\", lw=2, label=\"Target: \" + str(gs_energy))\n",
        "plt.legend()\n",
        "plt.grid()\n",
        "plt.show()"
      ],
      "metadata": {
        "id": "RjYahuSCEDzZ"
      },
      "execution_count": null,
      "outputs": []
    }
  ]
}