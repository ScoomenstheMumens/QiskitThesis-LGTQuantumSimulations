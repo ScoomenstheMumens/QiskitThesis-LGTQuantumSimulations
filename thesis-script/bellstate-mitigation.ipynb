{
 "cells": [
  {
   "cell_type": "code",
   "execution_count": 7,
   "metadata": {},
   "outputs": [],
   "source": [
    "import copy\n",
    "\n",
    "import matplotlib.pyplot as plt\n",
    "import numpy as np\n",
    "#import mitiq\n",
    "from mitiq import zne\n",
    "from qiskit import (IBMQ, ClassicalRegister, QuantumCircuit, QuantumRegister,\n",
    "                    execute, transpile)\n",
    "from qiskit import Aer\n",
    "from qiskit.providers.aer import AerSimulator  , QasmSimulator\n",
    "from qiskit.quantum_info import Operator\n",
    "from qiskit.utils.mitigation.fitters import CompleteMeasFitter\n",
    "\n",
    "from qiskit.visualization import plot_histogram\n",
    "from qiskit.providers.aer.noise import NoiseModel\n",
    "\n",
    "from lib import util\n"
   ]
  },
  {
   "cell_type": "code",
   "execution_count": 8,
   "metadata": {},
   "outputs": [
    {
     "name": "stderr",
     "output_type": "stream",
     "text": [
      "ibmqfactory.load_account:WARNING:2022-11-23 15:46:47,512: Credentials are already in use. The existing account in the session will be replaced.\n"
     ]
    }
   ],
   "source": [
    "from qiskit.test.mock import FakeManila\n",
    "device_backend = FakeManila()\n",
    "noise_model = NoiseModel.from_backend(device_backend)\n",
    "IBMQ.load_account()\n",
    "provider = IBMQ.get_provider(hub='ibm-q',\n",
    "                            group='open', \n",
    "                            project='main')\n",
    "backend_sim_noisy_jakarta = QasmSimulator.from_backend(provider.get_backend('ibmq_manila'))\n",
    "backend_real_jakarta = provider.get_backend('ibmq_manila')\n",
    "backend_sim_ideal = Aer.get_backend('aer_simulator')\n",
    "BACKEND = backend_sim_noisy_jakarta"
   ]
  },
  {
   "cell_type": "code",
   "execution_count": 9,
   "metadata": {},
   "outputs": [],
   "source": [
    "qubits_measure=[0,1]\n",
    "qubits=qubits_measure\n",
    "shots=10000\n",
    "config=BACKEND.configuration()\n",
    "N_qubits_backend=config.n_qubits"
   ]
  },
  {
   "cell_type": "code",
   "execution_count": 10,
   "metadata": {},
   "outputs": [
    {
     "data": {
      "text/html": [
       "<pre style=\"word-wrap: normal;white-space: pre;background: #fff0;line-height: 1.1;font-family: &quot;Courier New&quot;,Courier,monospace\">     ┌───┐     \n",
       "q_0: ┤ H ├──■──\n",
       "     └───┘┌─┴─┐\n",
       "q_1: ─────┤ X ├\n",
       "          └───┘\n",
       "q_2: ──────────\n",
       "               \n",
       "q_3: ──────────\n",
       "               \n",
       "q_4: ──────────\n",
       "               </pre>"
      ],
      "text/plain": [
       "     ┌───┐     \n",
       "q_0: ┤ H ├──■──\n",
       "     └───┘┌─┴─┐\n",
       "q_1: ─────┤ X ├\n",
       "          └───┘\n",
       "q_2: ──────────\n",
       "               \n",
       "q_3: ──────────\n",
       "               \n",
       "q_4: ──────────\n",
       "               "
      ]
     },
     "execution_count": 10,
     "metadata": {},
     "output_type": "execute_result"
    }
   ],
   "source": [
    "qr=QuantumRegister(N_qubits_backend,name='q')\n",
    "qc=QuantumCircuit(qr)\n",
    "\n",
    "qc.h(qr[0])\n",
    "qc.cx(qr[0],qr[1])\n",
    "\n",
    "#qc.h(qr[0])\n",
    "#qc.measure_all()\n",
    "\n",
    "qc.draw()"
   ]
  },
  {
   "cell_type": "code",
   "execution_count": 11,
   "metadata": {},
   "outputs": [
    {
     "data": {
      "text/html": [
       "<pre style=\"word-wrap: normal;white-space: pre;background: #fff0;line-height: 1.1;font-family: &quot;Courier New&quot;,Courier,monospace\">      ┌────────┐┌─┐   \n",
       "q__0: ┤0       ├┤M├───\n",
       "      │        │└╥┘┌─┐\n",
       "q__1: ┤1       ├─╫─┤M├\n",
       "      │        │ ║ └╥┘\n",
       "q__2: ┤2 cal_1 ├─╫──╫─\n",
       "      │        │ ║  ║ \n",
       "q__3: ┤3       ├─╫──╫─\n",
       "      │        │ ║  ║ \n",
       "q__4: ┤4       ├─╫──╫─\n",
       "      └────────┘ ║  ║ \n",
       " c: 2/═══════════╩══╩═\n",
       "                 0  1 </pre>"
      ],
      "text/plain": [
       "      ┌────────┐┌─┐   \n",
       "q__0: ┤0       ├┤M├───\n",
       "      │        │└╥┘┌─┐\n",
       "q__1: ┤1       ├─╫─┤M├\n",
       "      │        │ ║ └╥┘\n",
       "q__2: ┤2 cal_1 ├─╫──╫─\n",
       "      │        │ ║  ║ \n",
       "q__3: ┤3       ├─╫──╫─\n",
       "      │        │ ║  ║ \n",
       "q__4: ┤4       ├─╫──╫─\n",
       "      └────────┘ ║  ║ \n",
       " c: 2/═══════════╩══╩═\n",
       "                 0  1 "
      ]
     },
     "execution_count": 11,
     "metadata": {},
     "output_type": "execute_result"
    }
   ],
   "source": [
    "cal_circs_GEM, s_labels = util.GEM_calibration_circuits(qc=qc,qubits_measure=qubits_measure)\n",
    "cal_circs_GEM[0][0].draw()"
   ]
  },
  {
   "cell_type": "code",
   "execution_count": 12,
   "metadata": {},
   "outputs": [
    {
     "name": "stdout",
     "output_type": "stream",
     "text": [
      "4\n",
      "[{'00': 10000}, {'01': 10000}, {'10': 10000}, {'11': 10000}]\n"
     ]
    }
   ],
   "source": [
    "backend=backend_sim_ideal\n",
    "qr = QuantumRegister(N_qubits_backend)\n",
    "meas_calibs, state_labels = util.qiskit_calibration_circuits(N_qubits_backend,qubits_measure=qubits_measure)\n",
    "print(len(meas_calibs))\n",
    "job_cal = execute(meas_calibs, backend=backend, shots=shots)\n",
    "#job_cal.queue_position(refresh=True)\n",
    "cal_results = job_cal.result()\n",
    "cal_counts=cal_results.get_counts()\n",
    "print(cal_counts)\n",
    "meas_fitter = CompleteMeasFitter(cal_results, state_labels)\n",
    "#print(meas_fitter.cal_matrix())"
   ]
  },
  {
   "cell_type": "code",
   "execution_count": 13,
   "metadata": {},
   "outputs": [],
   "source": [
    "def circs_run(circs,qcirc,backend=BACKEND,qubits=qubits,qubits_measure=qubits_measure):\n",
    "    \n",
    "\n",
    "    cal_circs_meas, s_labels = util.qiskit_calibration_circuits(N_qubits_backend,qubits_measure=qubits_measure)\n",
    "    cal_circs_GEM, s_labels = util.GEM_calibration_circuits(qc=qcirc,qubits_measure=qubits_measure)\n",
    "    circs += cal_circs_meas\n",
    "    print(len(cal_circs_meas))\n",
    "    circs += cal_circs_GEM[0]\n",
    "    print(cal_circs_GEM[0][0].count_ops())\n",
    "    print(len(cal_circs_GEM[0]))\n",
    "    circs += cal_circs_GEM[1]\n",
    "    print(len(cal_circs_GEM[1]))\n",
    "    print(cal_circs_GEM[1][0].count_ops())\n",
    "\n",
    "    qr_aux=QuantumRegister(N_qubits_backend,name='q')\n",
    "    cr=ClassicalRegister(len(qubits_measure))\n",
    "    qc=QuantumCircuit(qr_aux,cr)\n",
    "\n",
    "    qc.append(qcirc,qr_aux)\n",
    "    qc=transpile(qc,backend,optimization_level=0)\n",
    "    for i in range (0,len(qubits_measure)):\n",
    "        qc.measure([qr_aux[qubits_measure[i]]],[cr[i]])\n",
    "    circs.append(qc)\n",
    "\n",
    "    \n",
    "\n",
    "    return circs,s_labels\n"
   ]
  },
  {
   "cell_type": "code",
   "execution_count": 14,
   "metadata": {},
   "outputs": [
    {
     "name": "stdout",
     "output_type": "stream",
     "text": [
      "4\n",
      "OrderedDict([('measure', 2), ('cal_1', 1)])\n",
      "4\n",
      "4\n",
      "OrderedDict([('measure', 2), ('cal_2', 1)])\n",
      "13\n",
      "p_t\n",
      "0.002965407137280914\n",
      "rand_vec\n",
      "[0.24950892 0.25109266 0.25163392 0.2477645 ]\n"
     ]
    }
   ],
   "source": [
    "circs=[]\n",
    "circs,s_labels=circs_run(circs,qc)\n",
    "print(len(circs))\n",
    "job=execute(circs,BACKEND,shots=shots,optimization_level=0)\n",
    "job_result=job.result()\n",
    "job_counts=job_result.get_counts()\n",
    "job_qiskit=copy.deepcopy(cal_results)\n",
    "job_GEM_L=copy.deepcopy(cal_results)\n",
    "job_GEM_R=copy.deepcopy(cal_results)\n",
    "for j in range (0,len(s_labels)):\n",
    "    job_qiskit.results[j].data.counts=job_counts[j]\n",
    "meas_fitter=CompleteMeasFitter(job_qiskit,s_labels)\n",
    "C_qiskit=meas_fitter.cal_matrix\n",
    "for j in range (0,len(s_labels)):\n",
    "    job_GEM_L.results[j].data.counts=meas_fitter.filter.apply(job_counts[j+len(s_labels)],method=\"least_squares\")\n",
    "    job_GEM_R.results[j].data.counts=meas_fitter.filter.apply(job_counts[j+2*len(s_labels)],method=\"least_squares\")\n",
    "\n",
    "meas_fitter_GEM_L = CompleteMeasFitter(job_GEM_L, state_labels=s_labels)\n",
    "meas_fitter_GEM_R = CompleteMeasFitter(job_GEM_R, state_labels=s_labels)\n",
    "Cal_GEM_L = meas_fitter_GEM_L.cal_matrix\n",
    "Cal_GEM_R = meas_fitter_GEM_R.cal_matrix\n",
    "C=(Cal_GEM_L+Cal_GEM_R)/2\n",
    "    \n",
    "    #define the equilibrium counts distribution\n",
    "rand_vec_prob=np.sum(C,axis=1,dtype='float')/(len(s_labels))\n",
    "    \n",
    "    \n",
    "    #calculate the probaabilities of dep error\n",
    "p_t=(C[0][0]-1)/(rand_vec_prob[0]-1)\n",
    "print('p_t')\n",
    "print(p_t)\n",
    "\n",
    "    #define the random prob vector and equilibrium prob vector\n",
    "print('rand_vec')\n",
    "print(rand_vec_prob)\n",
    "rand_vec=p_t*shots*rand_vec_prob\n",
    "\n",
    "D=np.zeros((len(s_labels),len(s_labels)))\n",
    "\n",
    "for k in range (0,len(s_labels)):\n",
    "    for j in range (0,len(s_labels)):\n",
    "        D[k][j]=(C[k][j]-p_t*rand_vec_prob[k])/(1-p_t)\n",
    "CGP=D\n",
    "    \n",
    "    \n",
    "meas_fitter_GP=copy.deepcopy(meas_fitter)\n",
    "meas_fitter_GP.cal_matrices=CGP\n",
    "\n",
    "meas_fitter_GEM=copy.deepcopy(meas_fitter)\n",
    "meas_fitter_GEM.cal_matrices=C\n",
    "\n"
   ]
  },
  {
   "cell_type": "code",
   "execution_count": 15,
   "metadata": {},
   "outputs": [
    {
     "data": {
      "image/png": "[encoded data removed]",
      "text/plain": [
       "<Figure size 936x792 with 6 Axes>"
      ]
     },
     "metadata": {
      "needs_background": "light"
     },
     "output_type": "display_data"
    }
   ],
   "source": [
    "plt.figure(figsize=(13,11))\n",
    "plt.subplot(131)\n",
    "plt.imshow(C)\n",
    "plt.colorbar()\n",
    "plt.subplot(132)\n",
    "plt.imshow(D)\n",
    "plt.colorbar()\n",
    "plt.subplot(133)\n",
    "plt.imshow(C_qiskit)\n",
    "plt.colorbar()\n",
    "plt.show()"
   ]
  },
  {
   "cell_type": "code",
   "execution_count": 16,
   "metadata": {},
   "outputs": [],
   "source": [
    "job_counts_circ_raw=job_counts[-1]\n",
    "raw_vector=util.occurrences_to_vector(job_counts_circ_raw)\n",
    "new_vector_CGP=(raw_vector-rand_vec)/(1-p_t)\n",
    "new_counts=dict(zip(s_labels,new_vector_CGP))\n",
    "job_counts_circ_CGP=meas_fitter_GP.filter.apply(new_counts,method=\"least_squares\")\n",
    "job_counts_circ_qiskit=meas_fitter.filter.apply(job_counts[-1],method=\"least_squares\")\n",
    "job_counts_circ_GEM=meas_fitter_GEM.filter.apply(job_counts_circ_qiskit,method=\"least_squares\")"
   ]
  },
  {
   "cell_type": "code",
   "execution_count": 17,
   "metadata": {},
   "outputs": [
    {
     "name": "stdout",
     "output_type": "stream",
     "text": [
      "Number of gates of folded circuit 0 scaled by: 0.571\n",
      "Number of gates of folded circuit 1 scaled by: 1.000\n",
      "Number of gates of folded circuit 2 scaled by: 2.429\n",
      "{'00': 5078.000000000003, '01': 271.9999999999997, '10': 366.99999999999943, '11': 4282.999999999996}\n"
     ]
    }
   ],
   "source": [
    "qr=QuantumRegister(N_qubits_backend)\n",
    "cr=ClassicalRegister(len(qubits_measure))\n",
    "qc=QuantumCircuit(qr,cr)\n",
    "\n",
    "qc.h(qr[0])\n",
    "qc.cx(qr[0],qr[1])\n",
    "\n",
    "for i in range (0,len(qubits_measure)):\n",
    "    qc.measure([qr[qubits_measure[i]]],[cr[i]])\n",
    "circuit =  qc\n",
    "    # Convert from raw measurement counts to the expectation value\n",
    "scale_factors = [1., 2., 3.]\n",
    "folded_circuits = [\n",
    "     zne.scaling.fold_all(circuit, scale)\n",
    "        for scale in scale_factors\n",
    "]\n",
    "job_zne = execute(\n",
    "    experiments=folded_circuits,\n",
    "    backend=BACKEND,\n",
    "    optimization_level=0,  # Important to preserve folded gates.\n",
    "    shots=shots,\n",
    ")\n",
    "    # Check that the circuit depth is (approximately) scaled as expected\n",
    "#print(a)\n",
    "for j, c in enumerate(folded_circuits):\n",
    "    print(f\"Number of gates of folded circuit {j} scaled by: {len(c) / len(circuit):.3f}\")\n",
    "counts_zne=np.zeros(len(s_labels))\n",
    "all_counts = [job_zne.result().get_counts(i) for i in range(len(folded_circuits))]\n",
    "z=np.zeros(len(s_labels))\n",
    "for i in range (0,len(s_labels)):\n",
    "    string=s_labels[i]\n",
    "    expectation_values=[]\n",
    "    for counts in all_counts:\n",
    "        if string in counts:\n",
    "            expectation_values.append(counts[string] / shots)\n",
    "        else:\n",
    "            expectation_values.append(0)\n",
    "    z[i] = zne.RichardsonFactory.extrapolate(scale_factors, expectation_values)*shots\n",
    "\n",
    "new_counts_zne=dict(zip(util.bin_list(2),z))\n",
    "print(new_counts_zne)\n"
   ]
  },
  {
   "cell_type": "code",
   "execution_count": 18,
   "metadata": {},
   "outputs": [],
   "source": [
    "new_counts_zne=dict(zip(util.bin_list(2),z))"
   ]
  },
  {
   "cell_type": "code",
   "execution_count": 19,
   "metadata": {},
   "outputs": [
    {
     "data": {
      "image/png": "[encoded data removed]",
      "text/plain": [
       "<Figure size 936x576 with 1 Axes>"
      ]
     },
     "execution_count": 19,
     "metadata": {},
     "output_type": "execute_result"
    }
   ],
   "source": [
    "legend = ['raw', 'MEM','ZNE','GEM','CGP']\n",
    "plot_histogram([job_counts_circ_raw, job_counts_circ_qiskit,new_counts_zne,job_counts_circ_GEM,job_counts_circ_CGP],legend=legend,figsize=(13,8))"
   ]
  }
 ],
 "metadata": {
  "kernelspec": {
   "display_name": "Python 3.8.0 32-bit",
   "language": "python",
   "name": "python3"
  },
  "language_info": {
   "codemirror_mode": {
    "name": "ipython",
    "version": 3
   },
   "file_extension": ".py",
   "mimetype": "text/x-python",
   "name": "python",
   "nbconvert_exporter": "python",
   "pygments_lexer": "ipython3",
   "version": "3.8.0"
  },
  "orig_nbformat": 4,
  "vscode": {
   "interpreter": {
    "hash": "6d1e45cadc3597bb8b6600530fbdf8c3eefe919a24ef54d9d32b318795b772e0"
   }
  }
 },
 "nbformat": 4,
 "nbformat_minor": 2
}
